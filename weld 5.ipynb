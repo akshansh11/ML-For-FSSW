{
  "nbformat": 4,
  "nbformat_minor": 0,
  "metadata": {
    "kernelspec": {
      "display_name": "Python 3",
      "language": "python",
      "name": "python3"
    },
    "language_info": {
      "codemirror_mode": {
        "name": "ipython",
        "version": 3
      },
      "file_extension": ".py",
      "mimetype": "text/x-python",
      "name": "python",
      "nbconvert_exporter": "python",
      "pygments_lexer": "ipython3",
      "version": "3.8.2"
    },
    "colab": {
      "name": "Determinig Grain Size.ipynb",
      "provenance": []
    }
  },
  "cells": [
    {
      "cell_type": "markdown",
      "metadata": {
        "id": "D-WKwLk1-H8a"
      },
      "source": [
        "**<h2>Importing Libraries**"
      ]
    },
    {
      "cell_type": "code",
      "metadata": {
        "id": "m7L3e8aW-H9D"
      },
      "source": [
        "import numpy as np \n",
        "import matplotlib.pyplot as plt\n",
        "import cv2 as cv\n",
        "from scipy import ndimage\n",
        "from skimage import io,color,measure"
      ],
      "execution_count": 61,
      "outputs": []
    },
    {
      "cell_type": "markdown",
      "metadata": {
        "id": "XGq7sHVN-H9L"
      },
      "source": [
        "**<h2>Uploading the Image**"
      ]
    },
    {
      "cell_type": "code",
      "metadata": {
        "id": "T09C-BbO-H9O"
      },
      "source": [
        "\n",
        "img=cv.imread('Weld 5.png',0)\n",
        "pixels_to_um=0.5"
      ],
      "execution_count": 62,
      "outputs": []
    },
    {
      "cell_type": "code",
      "metadata": {
        "colab": {
          "base_uri": "https://localhost:8080/",
          "height": 314
        },
        "id": "Zya59Wqt-H9Q",
        "outputId": "84dc908f-c86e-4218-c409-a7c7bb7a877f"
      },
      "source": [
        "io.imshow(img)"
      ],
      "execution_count": 63,
      "outputs": [
        {
          "output_type": "execute_result",
          "data": {
            "text/plain": [
              "<matplotlib.image.AxesImage at 0x7fb4cb90c3d0>"
            ]
          },
          "metadata": {
            "tags": []
          },
          "execution_count": 63
        },
        {
          "output_type": "display_data",
          "data": {
            "image/png": "[encoded data removed]",
            "text/plain": [
              "<Figure size 432x288 with 1 Axes>"
            ]
          },
          "metadata": {
            "tags": [],
            "needs_background": "light"
          }
        }
      ]
    },
    {
      "cell_type": "code",
      "metadata": {
        "colab": {
          "base_uri": "https://localhost:8080/",
          "height": 265
        },
        "id": "Ye-vcrpr-H9Z",
        "outputId": "3beed2d2-a5d4-40e7-a3ec-79a1b92924bb"
      },
      "source": [
        "plt.hist(img.flat,bins=100,range=(0,255))\n",
        "plt.show()"
      ],
      "execution_count": 64,
      "outputs": [
        {
          "output_type": "display_data",
          "data": {
            "image/png": "[encoded data removed]",
            "text/plain": [
              "<Figure size 432x288 with 1 Axes>"
            ]
          },
          "metadata": {
            "tags": [],
            "needs_background": "light"
          }
        }
      ]
    },
    {
      "cell_type": "markdown",
      "metadata": {
        "id": "oyVSN0yq-H9c"
      },
      "source": [
        "**<h2>Threshold Image**"
      ]
    },
    {
      "cell_type": "code",
      "metadata": {
        "id": "qvXt3Ml0-H9e"
      },
      "source": [
        "ret,thresh=cv.threshold(img,0,255,cv.THRESH_BINARY+cv.THRESH_OTSU)"
      ],
      "execution_count": 65,
      "outputs": []
    },
    {
      "cell_type": "code",
      "metadata": {
        "colab": {
          "base_uri": "https://localhost:8080/"
        },
        "id": "kp44f5da-H9g",
        "outputId": "3ad59be0-1ca1-4bd1-9a32-4c112e4291a9"
      },
      "source": [
        "ret"
      ],
      "execution_count": 66,
      "outputs": [
        {
          "output_type": "execute_result",
          "data": {
            "text/plain": [
              "159.0"
            ]
          },
          "metadata": {
            "tags": []
          },
          "execution_count": 66
        }
      ]
    },
    {
      "cell_type": "code",
      "metadata": {
        "colab": {
          "base_uri": "https://localhost:8080/",
          "height": 314
        },
        "id": "C9dm9Lwo-H9j",
        "outputId": "47cf0a16-4166-4491-a99b-26eecc5b8498"
      },
      "source": [
        "io.imshow(thresh)"
      ],
      "execution_count": 67,
      "outputs": [
        {
          "output_type": "execute_result",
          "data": {
            "text/plain": [
              "<matplotlib.image.AxesImage at 0x7fb4cba7d110>"
            ]
          },
          "metadata": {
            "tags": []
          },
          "execution_count": 67
        },
        {
          "output_type": "display_data",
          "data": {
            "image/png": "[encoded data removed]",
            "text/plain": [
              "<Figure size 432x288 with 1 Axes>"
            ]
          },
          "metadata": {
            "tags": [],
            "needs_background": "light"
          }
        }
      ]
    },
    {
      "cell_type": "markdown",
      "metadata": {
        "id": "DUwCaDr3-H9m"
      },
      "source": [
        "**<h2>Creating an Eroded Image**"
      ]
    },
    {
      "cell_type": "code",
      "metadata": {
        "colab": {
          "base_uri": "https://localhost:8080/",
          "height": 127
        },
        "id": "VvjICbZT-H9o",
        "outputId": "1480c096-9879-4142-c0db-f3b1f48d68dd"
      },
      "source": [
        "from google.colab.patches import cv2_imshow\n",
        "kernel=np.ones((3,3),np.uint8)\n",
        "eroded=cv.erode(thresh,kernel,iterations=1)\n",
        "cv2_imshow(eroded)\n",
        "cv.waitKey(0)"
      ],
      "execution_count": 68,
      "outputs": [
        {
          "output_type": "display_data",
          "data": {
            "image/png": "[encoded data removed]",
            "text/plain": [
              "<PIL.Image.Image image mode=L size=99x93 at 0x7FB4CB733110>"
            ]
          },
          "metadata": {
            "tags": []
          }
        },
        {
          "output_type": "execute_result",
          "data": {
            "text/plain": [
              "-1"
            ]
          },
          "metadata": {
            "tags": []
          },
          "execution_count": 68
        }
      ]
    },
    {
      "cell_type": "markdown",
      "metadata": {
        "id": "HIp2H-db-H9s"
      },
      "source": [
        "**<h2> Dilating the Image**"
      ]
    },
    {
      "cell_type": "code",
      "metadata": {
        "colab": {
          "base_uri": "https://localhost:8080/",
          "height": 127
        },
        "id": "pnxCVZQl-H9u",
        "outputId": "c14fb2f9-97f2-4f3d-c06d-536077c2190f"
      },
      "source": [
        "dilated=cv.erode(eroded,kernel,iterations=1)\n",
        "cv2_imshow(dilated)\n",
        "cv.waitKey(0)"
      ],
      "execution_count": 69,
      "outputs": [
        {
          "output_type": "display_data",
          "data": {
            "image/png": "[encoded data removed]",
            "text/plain": [
              "<PIL.Image.Image image mode=L size=99x93 at 0x7FB4CB733350>"
            ]
          },
          "metadata": {
            "tags": []
          }
        },
        {
          "output_type": "execute_result",
          "data": {
            "text/plain": [
              "-1"
            ]
          },
          "metadata": {
            "tags": []
          },
          "execution_count": 69
        }
      ]
    },
    {
      "cell_type": "markdown",
      "metadata": {
        "id": "i477TIJd-H9w"
      },
      "source": [
        "**<h2> Creating a Mask Image**"
      ]
    },
    {
      "cell_type": "code",
      "metadata": {
        "colab": {
          "base_uri": "https://localhost:8080/",
          "height": 314
        },
        "id": "YxrcsSZa-H9y",
        "outputId": "2612d5a3-b478-4c94-f45f-ea7b45bd6830"
      },
      "source": [
        "mask= dilated==255\n",
        "io.imshow(mask)"
      ],
      "execution_count": 70,
      "outputs": [
        {
          "output_type": "execute_result",
          "data": {
            "text/plain": [
              "<matplotlib.image.AxesImage at 0x7fb4cb940590>"
            ]
          },
          "metadata": {
            "tags": []
          },
          "execution_count": 70
        },
        {
          "output_type": "display_data",
          "data": {
            "image/png": "[encoded data removed]",
            "text/plain": [
              "<Figure size 432x288 with 1 Axes>"
            ]
          },
          "metadata": {
            "tags": [],
            "needs_background": "light"
          }
        }
      ]
    },
    {
      "cell_type": "markdown",
      "metadata": {
        "id": "DGoinBLG-H91"
      },
      "source": [
        "**<h2> Labeling The Spot weld**"
      ]
    },
    {
      "cell_type": "code",
      "metadata": {
        "colab": {
          "base_uri": "https://localhost:8080/",
          "height": 314
        },
        "id": "uVGFJ1DN-H92",
        "outputId": "3b0b83e8-bdd2-4bb2-db02-20c996abdbff"
      },
      "source": [
        "s=[[1,1,1],[1,1,1],[1,1,1]]\n",
        "label_mask,num_labels=ndimage.label(mask,structure=s)\n",
        "img2=color.label2rgb(label_mask,bg_label=0)\n",
        "io.imshow(img2)\n"
      ],
      "execution_count": 71,
      "outputs": [
        {
          "output_type": "execute_result",
          "data": {
            "text/plain": [
              "<matplotlib.image.AxesImage at 0x7fb4cb9c71d0>"
            ]
          },
          "metadata": {
            "tags": []
          },
          "execution_count": 71
        },
        {
          "output_type": "display_data",
          "data": {
            "image/png": "[encoded data removed]",
            "text/plain": [
              "<Figure size 432x288 with 1 Axes>"
            ]
          },
          "metadata": {
            "tags": [],
            "needs_background": "light"
          }
        }
      ]
    },
    {
      "cell_type": "markdown",
      "metadata": {
        "id": "lxelxUoG-H94"
      },
      "source": [
        "**<h2>Getting the properties and Storing them as a CSV file**"
      ]
    },
    {
      "cell_type": "code",
      "metadata": {
        "id": "D_WA-PLg-H96"
      },
      "source": [
        "clusters=measure.regionprops(label_mask,img)"
      ],
      "execution_count": 72,
      "outputs": []
    },
    {
      "cell_type": "code",
      "metadata": {
        "id": "5IT3gZ5P-H98"
      },
      "source": [
        "propList = ['Area',\n",
        "            'equivalent_diameter', #Added... verify if it works\n",
        "            'orientation', #Added, verify if it works. Angle btwn x-axis and major axis.\n",
        "            'MajorAxisLength',\n",
        "            'MinorAxisLength',\n",
        "            'Perimeter',\n",
        "            'MinIntensity',\n",
        "            'MeanIntensity',\n",
        "            'MaxIntensity']    "
      ],
      "execution_count": 73,
      "outputs": []
    },
    {
      "cell_type": "code",
      "metadata": {
        "id": "x_Refns5-H-A"
      },
      "source": [
        "output_file = open('image1_measurements.csv', 'w')\n",
        "output_file.write(',' + \",\".join(propList) + '\\n') #join strings in array by commas, leave first cell blank\n",
        "#First cell blank to leave room for header (column names)\n",
        "\n",
        "for cluster_props in clusters:\n",
        "    #output cluster properties to the excel file\n",
        "    output_file.write(str(cluster_props['Label']))\n",
        "    for i,prop in enumerate(propList):\n",
        "        if(prop == 'Area'): \n",
        "            to_print = cluster_props[prop]*pixels_to_um**2   #Convert pixel square to um square\n",
        "        elif(prop == 'orientation'): \n",
        "            to_print = cluster_props[prop]*57.2958  #Convert to degrees from radians\n",
        "        elif(prop.find('Intensity') < 0):          # Any prop without Intensity in its name\n",
        "            to_print = cluster_props[prop]*pixels_to_um\n",
        "        else: \n",
        "            to_print = cluster_props[prop]     #Reamining props, basically the ones with Intensity in its name\n",
        "        output_file.write(',' + str(to_print))\n",
        "    output_file.write('\\n')\n",
        "output_file.close()   "
      ],
      "execution_count": 74,
      "outputs": []
    }
  ]
}